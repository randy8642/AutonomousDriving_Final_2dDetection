{
 "cells": [
  {
   "cell_type": "code",
   "execution_count": 1,
   "metadata": {},
   "outputs": [
    {
     "name": "stderr",
     "output_type": "stream",
     "text": [
      "'sed' 不是內部或外部命令、可執行的程式或批次檔。\n",
      "'sed' 不是內部或外部命令、可執行的程式或批次檔。\n",
      "'sed' 不是內部或外部命令、可執行的程式或批次檔。\n",
      "'sed' 不是內部或外部命令、可執行的程式或批次檔。\n"
     ]
    }
   ],
   "source": [
    "# 修改參數\n",
    "!sed -i \"s/GPU=0/GPU=1/g\" darknet/Makefile\n",
    "!sed -i \"s/CUDNN=0/CUDNN=1/g\" darknet/Makefile\n",
    "!sed -i \"s/CUDNN_HALF=0/CUDNN_HALF=1/g\" darknet/Makefile\n",
    "!sed -i \"s/OPENCV=0/OPENCV=1/g\" darknet/Makefile"
   ]
  },
  {
   "cell_type": "code",
   "execution_count": 2,
   "metadata": {},
   "outputs": [
    {
     "name": "stderr",
     "output_type": "stream",
     "text": [
      "'head' 不是內部或外部命令、可執行的程式或批次檔。\n"
     ]
    }
   ],
   "source": [
    "# 參數\n",
    "!head darknet/Makefile"
   ]
  },
  {
   "cell_type": "code",
   "execution_count": 3,
   "metadata": {},
   "outputs": [
    {
     "name": "stderr",
     "output_type": "stream",
     "text": [
      "'wget' 不是內部或外部命令、可執行的程式或批次檔。\n"
     ]
    }
   ],
   "source": [
    "!wget https://github.com/AlexeyAB/darknet/releases/download/darknet_yolo_v4_pre/yolov4-tiny.conv.29"
   ]
  },
  {
   "cell_type": "code",
   "execution_count": 4,
   "metadata": {},
   "outputs": [
    {
     "name": "stderr",
     "output_type": "stream",
     "text": [
      "'mv' 不是內部或外部命令、可執行的程式或批次檔。\n"
     ]
    }
   ],
   "source": [
    "!mv ./yolov4-tiny.conv.29 ./waymo_object_detection/cfg"
   ]
  },
  {
   "cell_type": "code",
   "execution_count": 5,
   "metadata": {},
   "outputs": [
    {
     "name": "stderr",
     "output_type": "stream",
     "text": [
      "系統找不到指定的路徑。\n"
     ]
    }
   ],
   "source": [
    "!cd ./darknet; ./darknet detector train ./waymo_object_detection/cfg/object.data ./waymo_object_detection/cfg/yolo-obj.cfg ./waymo_object_detection/cfg/yolov4-tiny.conv.29 -dont_show -map"
   ]
  },
  {
   "cell_type": "code",
   "execution_count": 6,
   "metadata": {},
   "outputs": [
    {
     "name": "stderr",
     "output_type": "stream",
     "text": [
      "系統找不到指定的路徑。\n"
     ]
    }
   ],
   "source": [
    "!cd ./darknet; ./darknet detector test ./waymo_object_detection/cfg/object.data ./waymo_object_detection/cfg/yolo-obj.cfg ./waymo_object_detection/cfg/weights/yolo-obj_last.weights ./waymo_object_detection/train/0.jpg"
   ]
  },
  {
   "cell_type": "code",
   "execution_count": 7,
   "metadata": {},
   "outputs": [
    {
     "name": "stderr",
     "output_type": "stream",
     "text": [
      "系統找不到指定的路徑。\n"
     ]
    }
   ],
   "source": [
    "!cd ./darknet; ./darknet detector map ./waymo_object_detection/cfg/object.data ./waymo_object_detection/cfg/yolo-obj.cfg ./waymo_object_detection/cfg/weights/yolo-obj_best.weights"
   ]
  },
  {
   "cell_type": "code",
   "execution_count": null,
   "metadata": {},
   "outputs": [],
   "source": []
  }
 ],
 "metadata": {
  "kernelspec": {
   "display_name": "Python 3",
   "language": "python",
   "name": "python3"
  },
  "language_info": {
   "codemirror_mode": {
    "name": "ipython",
    "version": 3
   },
   "file_extension": ".py",
   "mimetype": "text/x-python",
   "name": "python",
   "nbconvert_exporter": "python",
   "pygments_lexer": "ipython3",
   "version": "3.8.5"
  }
 },
 "nbformat": 4,
 "nbformat_minor": 2
}
