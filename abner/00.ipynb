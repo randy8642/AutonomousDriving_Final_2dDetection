{
 "metadata": {
  "language_info": {
   "codemirror_mode": {
    "name": "ipython",
    "version": 3
   },
   "file_extension": ".py",
   "mimetype": "text/x-python",
   "name": "python",
   "nbconvert_exporter": "python",
   "pygments_lexer": "ipython3",
   "version": "3.8.5"
  },
  "orig_nbformat": 2,
  "kernelspec": {
   "name": "python385jvsc74a57bd0692dc83e01b19811232db18515473ee53391eecfd9606ff6583479ed1b957d9c",
   "display_name": "Python 3.8.5 64-bit ('3.8.5-venv': venv)"
  }
 },
 "nbformat": 4,
 "nbformat_minor": 2,
 "cells": [
  {
   "cell_type": "code",
   "execution_count": null,
   "metadata": {},
   "outputs": [],
   "source": [
    "!git clone https://github.com/AlexeyAB/darknet"
   ]
  },
  {
   "cell_type": "code",
   "execution_count": 1,
   "metadata": {},
   "outputs": [
    {
     "output_type": "stream",
     "name": "stderr",
     "text": [
      "'sed' ���O�����Υ~���R�O�B�i���檺�{���Χ妸�ɡC\n",
      "'sed' ���O�����Υ~���R�O�B�i���檺�{���Χ妸�ɡC\n",
      "'sed' ���O�����Υ~���R�O�B�i���檺�{���Χ妸�ɡC\n",
      "'sed' ���O�����Υ~���R�O�B�i���檺�{���Χ妸�ɡC\n"
     ]
    }
   ],
   "source": [
    "# 修改參數\n",
    "!sed -i \"s/GPU=0/GPU=1/g\" darknet/Makefile\n",
    "!sed -i \"s/CUDNN=0/CUDNN=1/g\" darknet/Makefile\n",
    "!sed -i \"s/CUDNN_HALF=0/CUDNN_HALF=1/g\" darknet/Makefile\n",
    "!sed -i \"s/OPENCV=0/OPENCV=1/g\" darknet/Makefile"
   ]
  },
  {
   "cell_type": "code",
   "execution_count": 2,
   "metadata": {},
   "outputs": [
    {
     "output_type": "stream",
     "name": "stderr",
     "text": [
      "'head' ���O�����Υ~���R�O�B�i���檺�{���Χ妸�ɡC\n"
     ]
    }
   ],
   "source": [
    "# 參數\n",
    "!head darknet/Makefile"
   ]
  },
  {
   "cell_type": "code",
   "execution_count": 3,
   "metadata": {},
   "outputs": [
    {
     "output_type": "stream",
     "name": "stderr",
     "text": [
      "�t�Χ䤣����w�����|�C\n"
     ]
    }
   ],
   "source": [
    "!cd darknet; make"
   ]
  },
  {
   "cell_type": "code",
   "execution_count": 4,
   "metadata": {},
   "outputs": [],
   "source": [
    "# 建立資料夾\n",
    "import os\n",
    "import shutil\n",
    "if not os.path.exists('waymo_object_detection'):\n",
    " os.mkdir('waymo_object_detection')\n",
    "if not os.path.exists('waymo_object_detection/cfg'):\n",
    " os.mkdir('waymo_object_detection/cfg') \n",
    " os.mkdir('waymo_object_detection/weights')\n",
    "if not os.path.exists('waymo_object_detection/cfg/face.data'):\n",
    " shutil.copyfile('darknet/cfg/coco.data', 'waymo_object_detection/cfg/object.data')\n",
    "if not os.path.exists('waymo_object_detection/cfg/face.names'):\n",
    " shutil.copyfile('darknet/cfg/coco.names', 'waymo_object_detection/cfg/object.names')"
   ]
  },
  {
   "cell_type": "code",
   "execution_count": null,
   "metadata": {},
   "outputs": [],
   "source": [
    "import matplotlib.pyplot as plt\n",
    "HEIGHT, WIDTH = (640, 960)\n",
    "\n",
    "folder_path = {\n",
    "    'train':'./train',\n",
    "    'val':'./valid'\n",
    "}\n",
    "\n",
    "for key in folder_path.keys():\n",
    "    if not os.path.exists(folder_path[key]):\n",
    "        os.mkdir(folder_path[key])"
   ]
  },
  {
   "cell_type": "code",
   "execution_count": null,
   "metadata": {},
   "outputs": [],
   "source": [
    "def box2yoloFormat(center_x, center_y, length, width, ORIGIN_WIDTH, ORIGIN_HEIGHT):\n",
    "    box_center_x = center_x / ORIGIN_WIDTH\n",
    "    box_center_y = center_y / ORIGIN_HEIGHT\n",
    "    box_width = length / ORIGIN_WIDTH\n",
    "    box_height = width / ORIGIN_HEIGHT\n",
    "    return (box_center_x, box_center_y, box_width, box_height)\n",
    "\n",
    "def imageDecode(image):\n",
    "    image = tf.image.decode_jpeg(image)   \n",
    "    h, w = image.shape[:2]\n",
    "    image = tf.image.resize(image, (HEIGHT, WIDTH)) \n",
    "    images = tf.expand_dims(image, axis=0) / 255.0\n",
    "    return images, h, w"
   ]
  },
  {
   "cell_type": "code",
   "execution_count": null,
   "metadata": {},
   "outputs": [],
   "source": [
    "'''\n",
    "enum Name {\n",
    "    UNKNOWN = 0;\n",
    "    FRONT = 1;\n",
    "    FRONT_LEFT = 2;\n",
    "    FRONT_RIGHT = 3;\n",
    "    SIDE_LEFT = 4;\n",
    "    SIDE_RIGHT = 5;\n",
    "  }\n",
    "'''\n",
    "def createImgLabel(dataSetType):\n",
    "    # WRITE train.txt\n",
    "    with open(f'/content/waymo_object_detection/cfg/{dataSetType}.txt', 'w') as out:\n",
    "        for img in [f for f in os.listdir(f'/content/waymo_object_detection/{dataSetType}') if f.endswith('jpg')]:\n",
    "            out.write(f'/content/waymo_object_detection/{dataSetType}/' + img + '\\n')\n",
    "    "
   ]
  },
  {
   "cell_type": "code",
   "execution_count": null,
   "metadata": {},
   "outputs": [],
   "source": [
    "createImgLabel('train')"
   ]
  },
  {
   "cell_type": "code",
   "execution_count": null,
   "metadata": {},
   "outputs": [],
   "source": [
    "createImgLabel('val')"
   ]
  },
  {
   "cell_type": "code",
   "execution_count": null,
   "metadata": {},
   "outputs": [],
   "source": [
    "classes = [\n",
    "    'TYPE_UNKNOWN',\n",
    "    'TYPE_VEHICLE',\n",
    "    'TYPE_PEDESTRIAN',\n",
    "    'TYPE_SIGN',\n",
    "    'TYPE_CYCLIST'\n",
    "]"
   ]
  },
  {
   "cell_type": "code",
   "execution_count": null,
   "metadata": {},
   "outputs": [],
   "source": [
    "with open('/content/waymo_object_detection/cfg/object.names',mode='w') as f:   \n",
    "    for c in classes:\n",
    "        f.write(c)\n",
    "        f.write('\\n')"
   ]
  },
  {
   "cell_type": "code",
   "execution_count": null,
   "metadata": {},
   "outputs": [],
   "source": [
    "with open('/content/waymo_object_detection/cfg/object.data',mode='w') as f:   \n",
    "    f.write(f'classes = {len(classes)}\\n')\n",
    "    f.write(f'train = /content/waymo_object_detection/cfg/train.txt\\n')\n",
    "    f.write(f'valid = /content/waymo_object_detection/cfg/val.txt\\n')\n",
    "    f.write(f'names = /content/waymo_object_detection/cfg/object.names\\n')\n",
    "    f.write(f'backup = /content/waymo_object_detection/cfg/weights\\n')"
   ]
  },
  {
   "cell_type": "code",
   "execution_count": null,
   "metadata": {},
   "outputs": [],
   "source": [
    "!cp ./darknet/cfg/yolov4-tiny.cfg /content/waymo_object_detection/cfg/yolo-obj.cfg"
   ]
  },
  {
   "cell_type": "code",
   "execution_count": null,
   "metadata": {},
   "outputs": [],
   "source": [
    "!wget https://github.com/AlexeyAB/darknet/releases/download/darknet_yolo_v4_pre/yolov4-tiny.conv.29"
   ]
  },
  {
   "cell_type": "code",
   "execution_count": null,
   "metadata": {},
   "outputs": [],
   "source": [
    "!mv ./yolov4-tiny.conv.29 ./waymo_object_detection/cfg"
   ]
  },
  {
   "cell_type": "code",
   "execution_count": null,
   "metadata": {},
   "outputs": [],
   "source": [
    "!cd ./darknet; ./darknet detector train /content/waymo_object_detection/cfg/object.data /content/waymo_object_detection/cfg/yolo-obj.cfg /content/waymo_object_detection/cfg/yolov4-tiny.conv.29 -dont_show -map"
   ]
  },
  {
   "cell_type": "code",
   "execution_count": null,
   "metadata": {},
   "outputs": [],
   "source": [
    "!cd ./darknet; ./darknet detector test /content/waymo_object_detection/cfg/object.data /content/waymo_object_detection/cfg/yolo-obj.cfg /content/waymo_object_detection/cfg/weights/yolo-obj_last.weights /content/waymo_object_detection/train/0.jpg"
   ]
  },
  {
   "cell_type": "code",
   "execution_count": null,
   "metadata": {},
   "outputs": [],
   "source": [
    "!cd ./darknet; ./darknet detector map /content/waymo_object_detection/cfg/object.data /content/waymo_object_detection/cfg/yolo-obj.cfg /content/waymo_object_detection/cfg/weights/yolo-obj_best.weights"
   ]
  }
 ]
}