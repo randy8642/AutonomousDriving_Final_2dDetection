{
 "cells": [
  {
   "cell_type": "code",
   "execution_count": null,
   "metadata": {
    "colab": {
     "base_uri": "https://localhost:8080/"
    },
    "id": "cZgHY-sEJ7di",
    "outputId": "d031d5cb-3b56-484d-945e-4635f2253c22"
   },
   "outputs": [],
   "source": [
    "# downloading gcsfuse\n",
    "!echo \"deb http://packages.cloud.google.com/apt gcsfuse-`lsb_release -c -s` main\" | sudo tee /etc/apt/sources.list.d/gcsfuse.list\n",
    "!curl https://packages.cloud.google.com/apt/doc/apt-key.gpg | sudo apt-key add -\n",
    "!sudo apt -y -q update\n",
    "!sudo apt -y -q install gcsfuse"
   ]
  },
  {
   "cell_type": "code",
   "execution_count": null,
   "metadata": {
    "id": "gkq1bnzRKFj0"
   },
   "outputs": [],
   "source": [
    "from google.colab import auth\n",
    "auth.authenticate_user()"
   ]
  },
  {
   "cell_type": "code",
   "execution_count": null,
   "metadata": {
    "colab": {
     "base_uri": "https://localhost:8080/"
    },
    "id": "EKkNuehjKGzW",
    "outputId": "463b879e-04cc-43e2-9062-82db7f900309"
   },
   "outputs": [],
   "source": [
    "!mkdir -p data\n",
    "!gcsfuse --implicit-dirs --limit-bytes-per-sec -1 --limit-ops-per-sec -1 waymo_open_dataset_v_1_2_0_individual_files data"
   ]
  },
  {
   "cell_type": "code",
   "execution_count": null,
   "metadata": {
    "colab": {
     "base_uri": "https://localhost:8080/"
    },
    "id": "DdpjxfKUKMst",
    "outputId": "0f55203e-b032-49b2-be32-5358c1004990"
   },
   "outputs": [],
   "source": [
    "!pip install --upgrade pip\n",
    "!pip install waymo-open-dataset-tf-2-4-0"
   ]
  },
  {
   "cell_type": "code",
   "execution_count": null,
   "metadata": {
    "id": "vvpvYuXoKQea"
   },
   "outputs": [],
   "source": [
    "import tensorflow as tf\n",
    "import os\n",
    "from waymo_open_dataset import dataset_pb2 as open_dataset\n",
    "from waymo_open_dataset.utils import range_image_utils\n",
    "from waymo_open_dataset.utils import transform_utils\n",
    "from waymo_open_dataset.utils import  frame_utils"
   ]
  },
  {
   "cell_type": "code",
   "execution_count": null,
   "metadata": {
    "id": "F9MYAtFIKSV9"
   },
   "outputs": [],
   "source": [
    "FILEPATH = {\n",
    "    'train': './data/training',\n",
    "    'test': './data/testing',\n",
    "    'val': './data/validation',\n",
    "}"
   ]
  },
  {
   "cell_type": "code",
   "execution_count": null,
   "metadata": {
    "id": "eRfFdDrAKTf3"
   },
   "outputs": [],
   "source": [
    "def getdataSet(filepath):\n",
    "    dirs = os.listdir(filepath)\n",
    "    dirs = [os.path.join(filepath,dir) for dir in dirs]\n",
    "\n",
    "    raw_dataset = tf.data.TFRecordDataset(dirs)\n",
    "\n",
    "    return raw_dataset"
   ]
  },
  {
   "cell_type": "code",
   "execution_count": null,
   "metadata": {
    "id": "AXyfiRojKUq7"
   },
   "outputs": [],
   "source": [
    "dataSets = {}\n",
    "for key in FILEPATH.keys():\n",
    "    dataSets[key] = getdataSet(FILEPATH[key])"
   ]
  },
  {
   "cell_type": "code",
   "execution_count": null,
   "metadata": {
    "id": "YmmRt7PlKYUv"
   },
   "outputs": [],
   "source": [
    "import matplotlib.pyplot as plt"
   ]
  },
  {
   "cell_type": "code",
   "execution_count": null,
   "metadata": {
    "id": "gqSICU2mKZWM"
   },
   "outputs": [],
   "source": [
    "HEIGHT, WIDTH = (640, 960)"
   ]
  },
  {
   "cell_type": "code",
   "execution_count": null,
   "metadata": {
    "id": "ADds8by-KarJ"
   },
   "outputs": [],
   "source": [
    "folder_path = {\n",
    "    'train':'./train',\n",
    "    'val':'./val'\n",
    "}\n",
    "\n",
    "for key in folder_path.keys():\n",
    "    if not os.path.exists(folder_path[key]):\n",
    "        os.mkdir(folder_path[key])"
   ]
  },
  {
   "cell_type": "code",
   "execution_count": null,
   "metadata": {
    "id": "3QuWb5EvKk3c"
   },
   "outputs": [],
   "source": [
    "def box2yoloFormat(center_x, center_y, length, width, ORIGIN_WIDTH, ORIGIN_HEIGHT):\n",
    "    box_center_x = center_x / ORIGIN_WIDTH\n",
    "    box_center_y = center_y / ORIGIN_HEIGHT\n",
    "    box_width = length / ORIGIN_WIDTH\n",
    "    box_height = width / ORIGIN_HEIGHT\n",
    "\n",
    "    return (box_center_x, box_center_y, box_width, box_height)"
   ]
  },
  {
   "cell_type": "code",
   "execution_count": null,
   "metadata": {
    "id": "VHZVuWqXKmJR"
   },
   "outputs": [],
   "source": [
    "def imageDecode(image):\n",
    "    \n",
    "    image = tf.image.decode_jpeg(image)   \n",
    "\n",
    "    h, w = image.shape[:2]\n",
    "\n",
    "    image = tf.image.resize(image, (HEIGHT, WIDTH)) \n",
    "    images = tf.expand_dims(image, axis=0) / 255.0\n",
    "\n",
    "    return images, h, w"
   ]
  },
  {
   "cell_type": "code",
   "execution_count": null,
   "metadata": {
    "id": "R7iCiZziKnRv"
   },
   "outputs": [],
   "source": [
    "'''\n",
    "enum Name {\n",
    "    UNKNOWN = 0;\n",
    "    FRONT = 1;\n",
    "    FRONT_LEFT = 2;\n",
    "    FRONT_RIGHT = 3;\n",
    "    SIDE_LEFT = 4;\n",
    "    SIDE_RIGHT = 5;\n",
    "  }\n",
    "'''\n",
    "def createImgLabel(dataSetType):\n",
    "    # SAVE FILE\n",
    "    n = 0\n",
    "    for record in dataSets[dataSetType]:\n",
    "        frame = open_dataset.Frame()\n",
    "        frame.ParseFromString(bytearray(record.numpy()))\n",
    "        \n",
    "        \n",
    "        \n",
    "        for i in range(5):\n",
    "            camera_image = frame.images[i]\n",
    "            if camera_image.name in [1,2,3]:\n",
    "                if n%10 == 0:\n",
    "                    print(n)\n",
    "                if n <= 88378:\n",
    "                    n = n + 1\n",
    "                    continue\n",
    "\n",
    "                # IMAGE\n",
    "                images, ORIGIN_HEIGHT, ORIGIN_WIDTH = imageDecode(frame.images[i].image)\n",
    "                plt.imsave( f'{folder_path[dataSetType]}/{n}.jpg', images[0].numpy())    \n",
    "               \n",
    "                # BOUNDING BOX\n",
    "                for camera_labels in frame.camera_labels:\n",
    "                    # Ignore camera labels that do not correspond to this camera.\n",
    "                    if camera_labels.name != camera_image.name:\n",
    "                        continue\n",
    "                      \n",
    "                    boxs = []\n",
    "                    for label in camera_labels.labels:        \n",
    "                        # BOX\n",
    "                        box = label.box        \n",
    "                        box_bound = box2yoloFormat(box.center_x, box.center_y, box.length, box.width, ORIGIN_WIDTH, ORIGIN_HEIGHT)\n",
    "                        \n",
    "                        # LABEL\n",
    "                        box_label = label.type\n",
    "\n",
    "                        boxs.append((box_label, *box_bound))\n",
    "                    \n",
    "                    with open(f'{folder_path[dataSetType]}/{n}.txt','w') as f:\n",
    "                        box_str = []\n",
    "                        for box in boxs:         \n",
    "                            box_str.append(' '.join(str(x) for x in box))\n",
    "                        f.write('\\n'.join(box_str))\n",
    "                \n",
    "                n = n + 1\n",
    "           \n",
    "    \n",
    "\n",
    "    "
   ]
  },
  {
   "cell_type": "code",
   "execution_count": null,
   "metadata": {
    "id": "_6rrgc7jK0T-"
   },
   "outputs": [],
   "source": [
    "def writeImgFileList(dataSetType):\n",
    "    # WRITE train.txt\n",
    "    with open(f'/content/waymo_object_detection/cfg/{dataSetType}.txt', 'w') as out:\n",
    "        for img in [f for f in os.listdir(f'/content/waymo_object_detection/{dataSetType}') if f.endswith('jpg')]:\n",
    "            out.write(f'/content/waymo_object_detection/{dataSetType}/' + img + '\\n')"
   ]
  },
  {
   "cell_type": "code",
   "execution_count": null,
   "metadata": {
    "colab": {
     "base_uri": "https://localhost:8080/",
     "height": 1000
    },
    "id": "9wEiapDhKobY",
    "outputId": "d49f86ab-38fb-4fd0-b3d1-0612adfe8fe8"
   },
   "outputs": [],
   "source": [
    "createImgLabel('train')"
   ]
  },
  {
   "cell_type": "code",
   "execution_count": null,
   "metadata": {
    "id": "YIl_0jFOK6CZ"
   },
   "outputs": [],
   "source": [
    "writeImgFileList('train')"
   ]
  },
  {
   "cell_type": "code",
   "execution_count": null,
   "metadata": {
    "id": "HN75R2r_Kpsj"
   },
   "outputs": [],
   "source": [
    "createImgLabel('val')"
   ]
  },
  {
   "cell_type": "code",
   "execution_count": null,
   "metadata": {
    "id": "r_Z-XnIQ2tzv"
   },
   "outputs": [],
   "source": [
    "!mv /content/drive/MyDrive/課程相關/109-2/自動駕駛實務/專案/Final/train/train/* /content/drive/MyDrive/課程相關/109-2/自動駕駛實務/專案/Final/train"
   ]
  }
 ],
 "metadata": {
  "colab": {
   "name": "WaymoOpenDataset_preprocess.ipynb",
   "provenance": []
  },
  "kernelspec": {
   "display_name": "Python 3",
   "language": "python",
   "name": "python3"
  },
  "language_info": {
   "codemirror_mode": {
    "name": "ipython",
    "version": 3
   },
   "file_extension": ".py",
   "mimetype": "text/x-python",
   "name": "python",
   "nbconvert_exporter": "python",
   "pygments_lexer": "ipython3",
   "version": "3.8.5"
  }
 },
 "nbformat": 4,
 "nbformat_minor": 1
}
